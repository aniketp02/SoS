{
 "cells": [
  {
   "cell_type": "markdown",
   "id": "inside-grave",
   "metadata": {},
   "source": [
    "## From Scratch"
   ]
  },
  {
   "cell_type": "code",
   "execution_count": 1,
   "id": "acting-turkey",
   "metadata": {},
   "outputs": [],
   "source": [
    "import pandas as pd\n",
    "import numpy as np\n",
    "import matplotlib.pyplot as plt"
   ]
  },
  {
   "cell_type": "code",
   "execution_count": 2,
   "id": "suspended-validation",
   "metadata": {},
   "outputs": [
    {
     "data": {
      "text/html": [
       "<div>\n",
       "<style scoped>\n",
       "    .dataframe tbody tr th:only-of-type {\n",
       "        vertical-align: middle;\n",
       "    }\n",
       "\n",
       "    .dataframe tbody tr th {\n",
       "        vertical-align: top;\n",
       "    }\n",
       "\n",
       "    .dataframe thead th {\n",
       "        text-align: right;\n",
       "    }\n",
       "</style>\n",
       "<table border=\"1\" class=\"dataframe\">\n",
       "  <thead>\n",
       "    <tr style=\"text-align: right;\">\n",
       "      <th></th>\n",
       "      <th>Total Claims</th>\n",
       "      <th>Total Payments</th>\n",
       "    </tr>\n",
       "  </thead>\n",
       "  <tbody>\n",
       "    <tr>\n",
       "      <th>count</th>\n",
       "      <td>63.000000</td>\n",
       "      <td>63.000000</td>\n",
       "    </tr>\n",
       "    <tr>\n",
       "      <th>mean</th>\n",
       "      <td>22.904762</td>\n",
       "      <td>98.187302</td>\n",
       "    </tr>\n",
       "    <tr>\n",
       "      <th>std</th>\n",
       "      <td>23.351946</td>\n",
       "      <td>87.327553</td>\n",
       "    </tr>\n",
       "    <tr>\n",
       "      <th>min</th>\n",
       "      <td>0.000000</td>\n",
       "      <td>0.000000</td>\n",
       "    </tr>\n",
       "    <tr>\n",
       "      <th>25%</th>\n",
       "      <td>7.500000</td>\n",
       "      <td>38.850000</td>\n",
       "    </tr>\n",
       "    <tr>\n",
       "      <th>50%</th>\n",
       "      <td>14.000000</td>\n",
       "      <td>73.400000</td>\n",
       "    </tr>\n",
       "    <tr>\n",
       "      <th>75%</th>\n",
       "      <td>29.000000</td>\n",
       "      <td>140.000000</td>\n",
       "    </tr>\n",
       "    <tr>\n",
       "      <th>max</th>\n",
       "      <td>124.000000</td>\n",
       "      <td>422.200000</td>\n",
       "    </tr>\n",
       "  </tbody>\n",
       "</table>\n",
       "</div>"
      ],
      "text/plain": [
       "       Total Claims  Total Payments\n",
       "count     63.000000       63.000000\n",
       "mean      22.904762       98.187302\n",
       "std       23.351946       87.327553\n",
       "min        0.000000        0.000000\n",
       "25%        7.500000       38.850000\n",
       "50%       14.000000       73.400000\n",
       "75%       29.000000      140.000000\n",
       "max      124.000000      422.200000"
      ]
     },
     "execution_count": 2,
     "metadata": {},
     "output_type": "execute_result"
    }
   ],
   "source": [
    "data = pd.read_csv('auto_insurance_sweden.csv')\n",
    "data.describe()"
   ]
  },
  {
   "cell_type": "code",
   "execution_count": 3,
   "id": "forbidden-exposure",
   "metadata": {},
   "outputs": [
    {
     "data": {
      "image/png": "[encoded data removed]",
      "text/plain": [
       "<Figure size 432x288 with 1 Axes>"
      ]
     },
     "metadata": {
      "needs_background": "light"
     },
     "output_type": "display_data"
    }
   ],
   "source": [
    "X = data[\"Total Claims\"]\n",
    "Y = data[\"Total Payments\"]\n",
    "plt.scatter(X, Y)\n",
    "plt.xlabel(\"Total Claims of Insurance\")\n",
    "plt.ylabel(\"Total Payments\")\n",
    "plt.show()"
   ]
  },
  {
   "cell_type": "code",
   "execution_count": 4,
   "id": "sustained-employer",
   "metadata": {},
   "outputs": [],
   "source": [
    "# Splitting the data\n",
    "# Taking 80% for training and 20% for testing\n",
    "\n",
    "X_test = X[:int(len(X)*0.3)]\n",
    "Y_test = Y[:int(len(Y)*0.3)]\n",
    "\n",
    "X_train = X[int(len(X)*0.3):]\n",
    "Y_train = Y[int(len(Y)*0.3):]"
   ]
  },
  {
   "cell_type": "code",
   "execution_count": 5,
   "id": "directed-general",
   "metadata": {},
   "outputs": [
    {
     "name": "stdout",
     "output_type": "stream",
     "text": [
      "Mean : 19.2\n",
      "Variance : 252.42666666666673\n",
      "Covariance : 879.824888888889\n"
     ]
    }
   ],
   "source": [
    "# Calculating the mean, variance and covariance to determine the coefficients\n",
    "\n",
    "# mean\n",
    "x_mean = X_train.sum()/len(X_train)\n",
    "y_mean = Y_train.sum()/len(Y_train)\n",
    "print(f'Mean : {x_mean}')\n",
    "\n",
    "# variance\n",
    "x_var = ((X_train - x_mean)**2).sum()\n",
    "x_var /= len(X_train)\n",
    "print(f'Variance : {x_var}')\n",
    "\n",
    "# Covariance\n",
    "x_covar = ((X_train - x_mean)*(Y_train - y_mean)).sum()\n",
    "x_covar /= len(X_train)\n",
    "print(f'Covariance : {x_covar}')\n"
   ]
  },
  {
   "cell_type": "code",
   "execution_count": 6,
   "id": "hungry-scheme",
   "metadata": {},
   "outputs": [
    {
     "name": "stdout",
     "output_type": "stream",
     "text": [
      "slope is 3.485467286428621\n",
      "intercept is 22.67680587834826\n"
     ]
    }
   ],
   "source": [
    "# Determine the coefficients of y = b1*x + b0\n",
    "\n",
    "b1 = x_covar/x_var\n",
    "print(f'slope is {b1}')\n",
    "\n",
    "b0 = y_mean - b1*x_mean\n",
    "print(f'intercept is {b0}')"
   ]
  },
  {
   "cell_type": "code",
   "execution_count": 7,
   "id": "specialized-intermediate",
   "metadata": {},
   "outputs": [
    {
     "data": {
      "image/png": "[encoded data removed]",
      "text/plain": [
       "<Figure size 432x288 with 1 Axes>"
      ]
     },
     "metadata": {
      "needs_background": "light"
     },
     "output_type": "display_data"
    }
   ],
   "source": [
    "# fitting the linear regression line\n",
    "\n",
    "plt.scatter(X_train, Y_train)\n",
    "plt.plot(X_train, b0 + b1*X_train, '-r')\n",
    "plt.xlabel(\"Total Claims of Insurance\")\n",
    "plt.ylabel(\"Total Payments\")\n",
    "plt.show()"
   ]
  },
  {
   "cell_type": "code",
   "execution_count": 8,
   "id": "twenty-turtle",
   "metadata": {},
   "outputs": [
    {
     "data": {
      "text/plain": [
       "0.910162208719141"
      ]
     },
     "execution_count": 8,
     "metadata": {},
     "output_type": "execute_result"
    }
   ],
   "source": [
    "# calculating r-squared\n",
    "\n",
    "y_pred = X_test*b1 +b0\n",
    "\n",
    "residual = Y_test - y_pred\n",
    "RSS = (residual**2).sum()\n",
    "TSS = ((Y_test - Y_test.mean())**2).sum()\n",
    "\n",
    "rsqr = 1 - RSS/TSS\n",
    "rsqr"
   ]
  },
  {
   "cell_type": "code",
   "execution_count": 9,
   "id": "retired-jungle",
   "metadata": {},
   "outputs": [
    {
     "data": {
      "text/plain": [
       "1332.812123876309"
      ]
     },
     "execution_count": 9,
     "metadata": {},
     "output_type": "execute_result"
    }
   ],
   "source": [
    "# mean squared error\n",
    "\n",
    "variance = ((Y_test - y_pred)**2).sum()\n",
    "\n",
    "MSE = variance/len(Y_test)\n",
    "MSE"
   ]
  },
  {
   "cell_type": "markdown",
   "id": "dried-computer",
   "metadata": {},
   "source": [
    "## Using direct model"
   ]
  },
  {
   "cell_type": "code",
   "execution_count": 10,
   "id": "productive-london",
   "metadata": {},
   "outputs": [],
   "source": [
    "from sklearn.linear_model import LinearRegression\n",
    "\n",
    "reg = LinearRegression()\n",
    "\n",
    "X_train = np.array(X_train)\n",
    "Y_train = np.array(Y_train)\n",
    "\n",
    "X_train = X_train.reshape(-1,1)"
   ]
  },
  {
   "cell_type": "code",
   "execution_count": 11,
   "id": "inner-portuguese",
   "metadata": {},
   "outputs": [
    {
     "data": {
      "text/plain": [
       "LinearRegression()"
      ]
     },
     "execution_count": 11,
     "metadata": {},
     "output_type": "execute_result"
    }
   ],
   "source": [
    "reg.fit(X_train, Y_train)"
   ]
  },
  {
   "cell_type": "code",
   "execution_count": 12,
   "id": "weighted-transportation",
   "metadata": {},
   "outputs": [
    {
     "name": "stdout",
     "output_type": "stream",
     "text": [
      "slope is 3.4854672864286216\n",
      "intercept is 22.676805878348247\n"
     ]
    }
   ],
   "source": [
    "print(\"slope is\", float(reg.coef_))\n",
    "print(\"intercept is\", reg.intercept_)"
   ]
  },
  {
   "cell_type": "code",
   "execution_count": 13,
   "id": "vital-appeal",
   "metadata": {},
   "outputs": [
    {
     "data": {
      "image/png": "[encoded data removed]",
      "text/plain": [
       "<Figure size 432x288 with 1 Axes>"
      ]
     },
     "metadata": {
      "needs_background": "light"
     },
     "output_type": "display_data"
    }
   ],
   "source": [
    "# fitting the linear regression line\n",
    "\n",
    "plt.scatter(X_train, Y_train)\n",
    "plt.plot(X_train, reg.intercept_ + float(reg.coef_)*X_train, '-r')\n",
    "plt.xlabel(\"Total Claims of Insurance\")\n",
    "plt.ylabel(\"Total Payments\")\n",
    "plt.show()"
   ]
  },
  {
   "cell_type": "code",
   "execution_count": 14,
   "id": "responsible-verification",
   "metadata": {},
   "outputs": [
    {
     "name": "stdout",
     "output_type": "stream",
     "text": [
      "0.910162208719141\n"
     ]
    }
   ],
   "source": [
    "# calculating r-squared\n",
    "\n",
    "X_test = np.array(X_test)\n",
    "X_test = X_test.reshape(-1,1)\n",
    "Y_test = np.array(Y_test)\n",
    "Y_test = Y_test.reshape(-1,1)\n",
    "\n",
    "\n",
    "r_sqr = reg.score(X_test, Y_test)\n",
    "print(r_sqr)"
   ]
  },
  {
   "cell_type": "code",
   "execution_count": null,
   "id": "departmental-screw",
   "metadata": {},
   "outputs": [],
   "source": []
  }
 ],
 "metadata": {
  "kernelspec": {
   "display_name": "Python 3",
   "language": "python",
   "name": "python3"
  },
  "language_info": {
   "codemirror_mode": {
    "name": "ipython",
    "version": 3
   },
   "file_extension": ".py",
   "mimetype": "text/x-python",
   "name": "python",
   "nbconvert_exporter": "python",
   "pygments_lexer": "ipython3",
   "version": "3.9.0"
  }
 },
 "nbformat": 4,
 "nbformat_minor": 5
}
